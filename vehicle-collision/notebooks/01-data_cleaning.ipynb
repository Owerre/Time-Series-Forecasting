{
 "cells": [
  {
   "cell_type": "markdown",
   "metadata": {},
   "source": [
    "\n",
    "# Construction of Time Series Data\n",
    "\n",
    "The data for the motor vehicle collisions on public roads in Canada can be found in [open.canada.ca](https://open.canada.ca/data/en/dataset/1eb9eba7-71d1-4b30-9fb1-30cbdab7e63a).   We have extracted a univariate time series data for total monthly fatality from 1999 to 2017."
   ]
  },
  {
   "cell_type": "code",
   "execution_count": 1,
   "metadata": {},
   "outputs": [],
   "source": [
    "# Ignore deprecated warning\n",
    "import warnings\n",
    "warnings.filterwarnings(\"ignore\")\n",
    "\n",
    "# Data manipulation\n",
    "import pandas as pd\n",
    "import numpy as np"
   ]
  },
  {
   "cell_type": "markdown",
   "metadata": {},
   "source": [
    "# Load raw data"
   ]
  },
  {
   "cell_type": "code",
   "execution_count": 3,
   "metadata": {},
   "outputs": [],
   "source": [
    "base_path = ''\n",
    "df = pd.read_csv(base_path + '/canada-collision/data/clean_data.csv')"
   ]
  },
  {
   "cell_type": "code",
   "execution_count": 4,
   "metadata": {},
   "outputs": [
    {
     "output_type": "stream",
     "name": "stdout",
     "text": [
      "Data size: (3817613, 23)\n"
     ]
    },
    {
     "output_type": "execute_result",
     "data": {
      "text/plain": [
       "   c_year   c_mnth  c_wday  c_hour  class  c_vehs                 c_conf  \\\n",
       "0    1999  January  Monday     9.0      0     2.0             Right turn   \n",
       "1    1999  January  Monday     9.0      0     2.0             Right turn   \n",
       "2    1999  January  Monday    20.0      0     1.0  Ran off left shoulder   \n",
       "3    1999  January  Monday     5.0      0     2.0    Hit a moving object   \n",
       "4    1999  January  Monday     5.0      0     2.0    Hit a moving object   \n",
       "\n",
       "                                   c_rcfg           c_wthr       c_rsur  ...  \\\n",
       "0                      At an intersection  Clear and sunny  Dry, normal  ...   \n",
       "1                      At an intersection  Clear and sunny  Dry, normal  ...   \n",
       "2  Intersection with parking lot entrance  Clear and sunny  Dry, normal  ...   \n",
       "3                      At an intersection          Raining          Wet  ...   \n",
       "4                      At an intersection          Raining          Wet  ...   \n",
       "\n",
       "                  v_type  v_year  p_id p_sex  p_age  \\\n",
       "0     Light Duty Vehicle  1992.0   1.0     F   33.0   \n",
       "1     Light Duty Vehicle  1992.0   1.0     F   70.0   \n",
       "2     Light Duty Vehicle  1988.0   1.0     F   38.0   \n",
       "3  Other trucks and vans  1995.0   1.0     M   34.0   \n",
       "4  Other trucks and vans  1995.0   2.0     M   30.0   \n",
       "\n",
       "                       p_psn     p_isev              p_safe  \\\n",
       "0                     Driver     Injury  Safety device used   \n",
       "1                     Driver  No Injury  Safety device used   \n",
       "2                     Driver     Injury  Safety device used   \n",
       "3                     Driver  No Injury  Safety device used   \n",
       "4  Front row, right outboard  No Injury  Safety device used   \n",
       "\n",
       "                    p_user c_case  \n",
       "0     Motor Vehicle Driver   2890  \n",
       "1     Motor Vehicle Driver   2890  \n",
       "2     Motor Vehicle Driver   4332  \n",
       "3     Motor Vehicle Driver   5053  \n",
       "4  Motor Vehicle Passenger   5053  \n",
       "\n",
       "[5 rows x 23 columns]"
      ],
      "text/html": "<div>\n<style scoped>\n    .dataframe tbody tr th:only-of-type {\n        vertical-align: middle;\n    }\n\n    .dataframe tbody tr th {\n        vertical-align: top;\n    }\n\n    .dataframe thead th {\n        text-align: right;\n    }\n</style>\n<table border=\"1\" class=\"dataframe\">\n  <thead>\n    <tr style=\"text-align: right;\">\n      <th></th>\n      <th>c_year</th>\n      <th>c_mnth</th>\n      <th>c_wday</th>\n      <th>c_hour</th>\n      <th>class</th>\n      <th>c_vehs</th>\n      <th>c_conf</th>\n      <th>c_rcfg</th>\n      <th>c_wthr</th>\n      <th>c_rsur</th>\n      <th>...</th>\n      <th>v_type</th>\n      <th>v_year</th>\n      <th>p_id</th>\n      <th>p_sex</th>\n      <th>p_age</th>\n      <th>p_psn</th>\n      <th>p_isev</th>\n      <th>p_safe</th>\n      <th>p_user</th>\n      <th>c_case</th>\n    </tr>\n  </thead>\n  <tbody>\n    <tr>\n      <th>0</th>\n      <td>1999</td>\n      <td>January</td>\n      <td>Monday</td>\n      <td>9.0</td>\n      <td>0</td>\n      <td>2.0</td>\n      <td>Right turn</td>\n      <td>At an intersection</td>\n      <td>Clear and sunny</td>\n      <td>Dry, normal</td>\n      <td>...</td>\n      <td>Light Duty Vehicle</td>\n      <td>1992.0</td>\n      <td>1.0</td>\n      <td>F</td>\n      <td>33.0</td>\n      <td>Driver</td>\n      <td>Injury</td>\n      <td>Safety device used</td>\n      <td>Motor Vehicle Driver</td>\n      <td>2890</td>\n    </tr>\n    <tr>\n      <th>1</th>\n      <td>1999</td>\n      <td>January</td>\n      <td>Monday</td>\n      <td>9.0</td>\n      <td>0</td>\n      <td>2.0</td>\n      <td>Right turn</td>\n      <td>At an intersection</td>\n      <td>Clear and sunny</td>\n      <td>Dry, normal</td>\n      <td>...</td>\n      <td>Light Duty Vehicle</td>\n      <td>1992.0</td>\n      <td>1.0</td>\n      <td>F</td>\n      <td>70.0</td>\n      <td>Driver</td>\n      <td>No Injury</td>\n      <td>Safety device used</td>\n      <td>Motor Vehicle Driver</td>\n      <td>2890</td>\n    </tr>\n    <tr>\n      <th>2</th>\n      <td>1999</td>\n      <td>January</td>\n      <td>Monday</td>\n      <td>20.0</td>\n      <td>0</td>\n      <td>1.0</td>\n      <td>Ran off left shoulder</td>\n      <td>Intersection with parking lot entrance</td>\n      <td>Clear and sunny</td>\n      <td>Dry, normal</td>\n      <td>...</td>\n      <td>Light Duty Vehicle</td>\n      <td>1988.0</td>\n      <td>1.0</td>\n      <td>F</td>\n      <td>38.0</td>\n      <td>Driver</td>\n      <td>Injury</td>\n      <td>Safety device used</td>\n      <td>Motor Vehicle Driver</td>\n      <td>4332</td>\n    </tr>\n    <tr>\n      <th>3</th>\n      <td>1999</td>\n      <td>January</td>\n      <td>Monday</td>\n      <td>5.0</td>\n      <td>0</td>\n      <td>2.0</td>\n      <td>Hit a moving object</td>\n      <td>At an intersection</td>\n      <td>Raining</td>\n      <td>Wet</td>\n      <td>...</td>\n      <td>Other trucks and vans</td>\n      <td>1995.0</td>\n      <td>1.0</td>\n      <td>M</td>\n      <td>34.0</td>\n      <td>Driver</td>\n      <td>No Injury</td>\n      <td>Safety device used</td>\n      <td>Motor Vehicle Driver</td>\n      <td>5053</td>\n    </tr>\n    <tr>\n      <th>4</th>\n      <td>1999</td>\n      <td>January</td>\n      <td>Monday</td>\n      <td>5.0</td>\n      <td>0</td>\n      <td>2.0</td>\n      <td>Hit a moving object</td>\n      <td>At an intersection</td>\n      <td>Raining</td>\n      <td>Wet</td>\n      <td>...</td>\n      <td>Other trucks and vans</td>\n      <td>1995.0</td>\n      <td>2.0</td>\n      <td>M</td>\n      <td>30.0</td>\n      <td>Front row, right outboard</td>\n      <td>No Injury</td>\n      <td>Safety device used</td>\n      <td>Motor Vehicle Passenger</td>\n      <td>5053</td>\n    </tr>\n  </tbody>\n</table>\n<p>5 rows × 23 columns</p>\n</div>"
     },
     "metadata": {},
     "execution_count": 4
    }
   ],
   "source": [
    "print(\"Data size:\", df.shape)\n",
    "df.columns = [x.lower() for x in df.columns]\n",
    "df.head()"
   ]
  },
  {
   "source": [
    "# Create a time series data\n",
    "We are interested in univariate time series of the monthly fatality on public roads in Canada. The first step in time series analysis is to put the data in a time series format. Below we use pandas pivot_table function to calculate the sum of fatality indexed by the year of collision with the columns as the month of collision. We then stack the result and form a time series data set"
   ],
   "cell_type": "markdown",
   "metadata": {}
  },
  {
   "cell_type": "code",
   "execution_count": 5,
   "metadata": {},
   "outputs": [],
   "source": [
    "# Change month to integer\n",
    "month_dict = {'January':1, 'February':2, 'March':3, 'April':4,  'May':5, 'June':6,  'July':7,    'August':8, 'September':9,'October':10, 'November':11, 'December':12\n",
    "}\n",
    "\n",
    "wday_dict = {'Monday':1, 'Tuesday':2, 'Wednesday':3, 'Thursday':4, 'Friday':5,  'Saturday':5,   'Sunday':6\n",
    "}\n",
    "\n",
    "df['c_mnth'].replace(month_dict, inplace = True)\n",
    "df['c_wday'].replace(wday_dict, inplace = True)"
   ]
  },
  {
   "cell_type": "code",
   "execution_count": 6,
   "metadata": {},
   "outputs": [],
   "source": [
    "# Create date attribute\n",
    "df['date'] = df['c_year'].astype(str) + '-' + df['c_mnth'].astype(str)\n",
    "df['date']  = pd.to_datetime(df.date)"
   ]
  },
  {
   "source": [
    "# Create features"
   ],
   "cell_type": "markdown",
   "metadata": {}
  },
  {
   "cell_type": "code",
   "execution_count": 7,
   "metadata": {},
   "outputs": [],
   "source": [
    "# Head-on collision indicator\n",
    "df['conf_ind'] = np.where(df.c_conf == 'Head-on collision', 'head-on', 'not-head-on')"
   ]
  },
  {
   "cell_type": "code",
   "execution_count": 8,
   "metadata": {},
   "outputs": [],
   "source": [
    "df.insert(1, 'year', df['c_year'])  # Insert year\n",
    "df.insert(2, 'month', df['c_mnth'])  # Insert month\n",
    "\n",
    "# Insert summer indicator\n",
    "df.insert(3, 'summer_ind', np.where(df.c_mnth == 6, 1,\n",
    "                        np.where(df.c_mnth ==7, 1,\n",
    "                        np.where(df.c_mnth ==8, 1,0)\n",
    "                        )))"
   ]
  },
  {
   "cell_type": "code",
   "execution_count": 9,
   "metadata": {},
   "outputs": [
    {
     "output_type": "execute_result",
     "data": {
      "text/plain": [
       "        date  med_fatal  med_injury  med_no_injury\n",
       "0 1999-01-01       85.0        99.0           48.0\n",
       "1 1999-02-01      101.0       108.0           40.0\n",
       "2 1999-03-01      105.0       170.0           48.0\n",
       "3 1999-04-01       99.0        84.0           32.0\n",
       "4 1999-05-01      150.0       165.0           53.0"
      ],
      "text/html": "<div>\n<style scoped>\n    .dataframe tbody tr th:only-of-type {\n        vertical-align: middle;\n    }\n\n    .dataframe tbody tr th {\n        vertical-align: top;\n    }\n\n    .dataframe thead th {\n        text-align: right;\n    }\n</style>\n<table border=\"1\" class=\"dataframe\">\n  <thead>\n    <tr style=\"text-align: right;\">\n      <th></th>\n      <th>date</th>\n      <th>med_fatal</th>\n      <th>med_injury</th>\n      <th>med_no_injury</th>\n    </tr>\n  </thead>\n  <tbody>\n    <tr>\n      <th>0</th>\n      <td>1999-01-01</td>\n      <td>85.0</td>\n      <td>99.0</td>\n      <td>48.0</td>\n    </tr>\n    <tr>\n      <th>1</th>\n      <td>1999-02-01</td>\n      <td>101.0</td>\n      <td>108.0</td>\n      <td>40.0</td>\n    </tr>\n    <tr>\n      <th>2</th>\n      <td>1999-03-01</td>\n      <td>105.0</td>\n      <td>170.0</td>\n      <td>48.0</td>\n    </tr>\n    <tr>\n      <th>3</th>\n      <td>1999-04-01</td>\n      <td>99.0</td>\n      <td>84.0</td>\n      <td>32.0</td>\n    </tr>\n    <tr>\n      <th>4</th>\n      <td>1999-05-01</td>\n      <td>150.0</td>\n      <td>165.0</td>\n      <td>53.0</td>\n    </tr>\n  </tbody>\n</table>\n</div>"
     },
     "metadata": {},
     "execution_count": 9
    }
   ],
   "source": [
    "# Medical treatment of injury type\n",
    "df_inj = df[df['class'] == 1][['date', 'p_isev', 'conf_ind']]\n",
    "\n",
    "inj_ty = df_inj.drop('conf_ind', axis =1).copy()\n",
    "inj_ty = pd.get_dummies(inj_ty, columns= ['p_isev'])\n",
    "inj_ty.columns = ['date'] + list(df_inj.p_isev.unique())\n",
    "\n",
    "inj_ty = inj_ty.groupby('date').sum()\n",
    "\n",
    "inj_ty.rename(columns= {'Fatality': 'med_fatal', 'Injury':'med_injury', \n",
    "                        'No Injury': 'med_no_injury'}, inplace=True)\n",
    "\n",
    "inj_ty.insert(0, 'date', inj_ty.index)\n",
    "inj_ty.reset_index(drop=True, inplace=True)\n",
    "\n",
    "inj_ty.head()"
   ]
  },
  {
   "cell_type": "code",
   "execution_count": 10,
   "metadata": {},
   "outputs": [
    {
     "output_type": "execute_result",
     "data": {
      "text/plain": [
       "        date  not-head-on  head-on\n",
       "0 1999-01-01        108.0    124.0\n",
       "1 1999-02-01         93.0    156.0\n",
       "2 1999-03-01         96.0    227.0\n",
       "3 1999-04-01         44.0    171.0\n",
       "4 1999-05-01         79.0    289.0"
      ],
      "text/html": "<div>\n<style scoped>\n    .dataframe tbody tr th:only-of-type {\n        vertical-align: middle;\n    }\n\n    .dataframe tbody tr th {\n        vertical-align: top;\n    }\n\n    .dataframe thead th {\n        text-align: right;\n    }\n</style>\n<table border=\"1\" class=\"dataframe\">\n  <thead>\n    <tr style=\"text-align: right;\">\n      <th></th>\n      <th>date</th>\n      <th>not-head-on</th>\n      <th>head-on</th>\n    </tr>\n  </thead>\n  <tbody>\n    <tr>\n      <th>0</th>\n      <td>1999-01-01</td>\n      <td>108.0</td>\n      <td>124.0</td>\n    </tr>\n    <tr>\n      <th>1</th>\n      <td>1999-02-01</td>\n      <td>93.0</td>\n      <td>156.0</td>\n    </tr>\n    <tr>\n      <th>2</th>\n      <td>1999-03-01</td>\n      <td>96.0</td>\n      <td>227.0</td>\n    </tr>\n    <tr>\n      <th>3</th>\n      <td>1999-04-01</td>\n      <td>44.0</td>\n      <td>171.0</td>\n    </tr>\n    <tr>\n      <th>4</th>\n      <td>1999-05-01</td>\n      <td>79.0</td>\n      <td>289.0</td>\n    </tr>\n  </tbody>\n</table>\n</div>"
     },
     "metadata": {},
     "execution_count": 10
    }
   ],
   "source": [
    "# Type of collision\n",
    "df_conf = df_inj.drop('p_isev', axis =1).copy()\n",
    "\n",
    "df_conf = pd.get_dummies(df_conf, columns= ['conf_ind'])\n",
    "df_conf.columns = ['date'] + list(df_inj.conf_ind.unique()) \n",
    "\n",
    "df_conf = df_conf.groupby('date').sum()\n",
    "\n",
    "df_conf.insert(0, 'date', df_conf.index)\n",
    "df_conf.reset_index(drop=True, inplace=True)\n",
    "\n",
    "df_conf.head()"
   ]
  },
  {
   "cell_type": "code",
   "execution_count": 11,
   "metadata": {},
   "outputs": [
    {
     "output_type": "execute_result",
     "data": {
      "text/plain": [
       "        date     class\n",
       "0 1999-01-01  0.013067\n",
       "1 1999-02-01  0.017570\n",
       "2 1999-03-01  0.021727\n",
       "3 1999-04-01  0.013606\n",
       "4 1999-05-01  0.018343"
      ],
      "text/html": "<div>\n<style scoped>\n    .dataframe tbody tr th:only-of-type {\n        vertical-align: middle;\n    }\n\n    .dataframe tbody tr th {\n        vertical-align: top;\n    }\n\n    .dataframe thead th {\n        text-align: right;\n    }\n</style>\n<table border=\"1\" class=\"dataframe\">\n  <thead>\n    <tr style=\"text-align: right;\">\n      <th></th>\n      <th>date</th>\n      <th>class</th>\n    </tr>\n  </thead>\n  <tbody>\n    <tr>\n      <th>0</th>\n      <td>1999-01-01</td>\n      <td>0.013067</td>\n    </tr>\n    <tr>\n      <th>1</th>\n      <td>1999-02-01</td>\n      <td>0.017570</td>\n    </tr>\n    <tr>\n      <th>2</th>\n      <td>1999-03-01</td>\n      <td>0.021727</td>\n    </tr>\n    <tr>\n      <th>3</th>\n      <td>1999-04-01</td>\n      <td>0.013606</td>\n    </tr>\n    <tr>\n      <th>4</th>\n      <td>1999-05-01</td>\n      <td>0.018343</td>\n    </tr>\n  </tbody>\n</table>\n</div>"
     },
     "metadata": {},
     "execution_count": 11
    }
   ],
   "source": [
    "# Fatality rate\n",
    "pvt = pd.pivot_table(df, values= 'class', index=['date'], aggfunc = 'mean')\n",
    "pvt.insert(0, 'date', pvt.index)\n",
    "pvt.reset_index(drop=True, inplace=True)\n",
    "pvt.head()"
   ]
  },
  {
   "source": [
    "# Consolidated Data"
   ],
   "cell_type": "markdown",
   "metadata": {}
  },
  {
   "cell_type": "code",
   "execution_count": 12,
   "metadata": {},
   "outputs": [],
   "source": [
    "df_sel = df.copy()[['date', 'year', 'month', 'summer_ind', 'class']]"
   ]
  },
  {
   "cell_type": "code",
   "execution_count": 13,
   "metadata": {},
   "outputs": [
    {
     "output_type": "execute_result",
     "data": {
      "text/plain": [
       "          date  fatality_rate  med_fatal  med_injury  med_no_injury  \\\n",
       "0   1999-01-01       0.013067       85.0        99.0           48.0   \n",
       "1   1999-02-01       0.017570      101.0       108.0           40.0   \n",
       "2   1999-03-01       0.021727      105.0       170.0           48.0   \n",
       "3   1999-04-01       0.013606       99.0        84.0           32.0   \n",
       "4   1999-05-01       0.018343      150.0       165.0           53.0   \n",
       "..         ...            ...        ...         ...            ...   \n",
       "223 2017-08-01       0.016928      106.0        89.0           62.0   \n",
       "224 2017-09-01       0.015841       94.0        85.0           60.0   \n",
       "225 2017-10-01       0.015182       93.0        67.0           65.0   \n",
       "226 2017-11-01       0.011240       66.0        55.0           39.0   \n",
       "227 2017-12-01       0.015257       80.0        87.0           64.0   \n",
       "\n",
       "     not-head-on  head-on  year  month  summer_ind  \n",
       "0          108.0    124.0  1999      1           0  \n",
       "1           93.0    156.0  1999      2           0  \n",
       "2           96.0    227.0  1999      3           0  \n",
       "3           44.0    171.0  1999      4           0  \n",
       "4           79.0    289.0  1999      5           0  \n",
       "..           ...      ...   ...    ...         ...  \n",
       "223         59.0    198.0  2017      8           1  \n",
       "224         67.0    172.0  2017      9           0  \n",
       "225         52.0    173.0  2017     10           0  \n",
       "226         57.0    103.0  2017     11           0  \n",
       "227         82.0    149.0  2017     12           0  \n",
       "\n",
       "[228 rows x 10 columns]"
      ],
      "text/html": "<div>\n<style scoped>\n    .dataframe tbody tr th:only-of-type {\n        vertical-align: middle;\n    }\n\n    .dataframe tbody tr th {\n        vertical-align: top;\n    }\n\n    .dataframe thead th {\n        text-align: right;\n    }\n</style>\n<table border=\"1\" class=\"dataframe\">\n  <thead>\n    <tr style=\"text-align: right;\">\n      <th></th>\n      <th>date</th>\n      <th>fatality_rate</th>\n      <th>med_fatal</th>\n      <th>med_injury</th>\n      <th>med_no_injury</th>\n      <th>not-head-on</th>\n      <th>head-on</th>\n      <th>year</th>\n      <th>month</th>\n      <th>summer_ind</th>\n    </tr>\n  </thead>\n  <tbody>\n    <tr>\n      <th>0</th>\n      <td>1999-01-01</td>\n      <td>0.013067</td>\n      <td>85.0</td>\n      <td>99.0</td>\n      <td>48.0</td>\n      <td>108.0</td>\n      <td>124.0</td>\n      <td>1999</td>\n      <td>1</td>\n      <td>0</td>\n    </tr>\n    <tr>\n      <th>1</th>\n      <td>1999-02-01</td>\n      <td>0.017570</td>\n      <td>101.0</td>\n      <td>108.0</td>\n      <td>40.0</td>\n      <td>93.0</td>\n      <td>156.0</td>\n      <td>1999</td>\n      <td>2</td>\n      <td>0</td>\n    </tr>\n    <tr>\n      <th>2</th>\n      <td>1999-03-01</td>\n      <td>0.021727</td>\n      <td>105.0</td>\n      <td>170.0</td>\n      <td>48.0</td>\n      <td>96.0</td>\n      <td>227.0</td>\n      <td>1999</td>\n      <td>3</td>\n      <td>0</td>\n    </tr>\n    <tr>\n      <th>3</th>\n      <td>1999-04-01</td>\n      <td>0.013606</td>\n      <td>99.0</td>\n      <td>84.0</td>\n      <td>32.0</td>\n      <td>44.0</td>\n      <td>171.0</td>\n      <td>1999</td>\n      <td>4</td>\n      <td>0</td>\n    </tr>\n    <tr>\n      <th>4</th>\n      <td>1999-05-01</td>\n      <td>0.018343</td>\n      <td>150.0</td>\n      <td>165.0</td>\n      <td>53.0</td>\n      <td>79.0</td>\n      <td>289.0</td>\n      <td>1999</td>\n      <td>5</td>\n      <td>0</td>\n    </tr>\n    <tr>\n      <th>...</th>\n      <td>...</td>\n      <td>...</td>\n      <td>...</td>\n      <td>...</td>\n      <td>...</td>\n      <td>...</td>\n      <td>...</td>\n      <td>...</td>\n      <td>...</td>\n      <td>...</td>\n    </tr>\n    <tr>\n      <th>223</th>\n      <td>2017-08-01</td>\n      <td>0.016928</td>\n      <td>106.0</td>\n      <td>89.0</td>\n      <td>62.0</td>\n      <td>59.0</td>\n      <td>198.0</td>\n      <td>2017</td>\n      <td>8</td>\n      <td>1</td>\n    </tr>\n    <tr>\n      <th>224</th>\n      <td>2017-09-01</td>\n      <td>0.015841</td>\n      <td>94.0</td>\n      <td>85.0</td>\n      <td>60.0</td>\n      <td>67.0</td>\n      <td>172.0</td>\n      <td>2017</td>\n      <td>9</td>\n      <td>0</td>\n    </tr>\n    <tr>\n      <th>225</th>\n      <td>2017-10-01</td>\n      <td>0.015182</td>\n      <td>93.0</td>\n      <td>67.0</td>\n      <td>65.0</td>\n      <td>52.0</td>\n      <td>173.0</td>\n      <td>2017</td>\n      <td>10</td>\n      <td>0</td>\n    </tr>\n    <tr>\n      <th>226</th>\n      <td>2017-11-01</td>\n      <td>0.011240</td>\n      <td>66.0</td>\n      <td>55.0</td>\n      <td>39.0</td>\n      <td>57.0</td>\n      <td>103.0</td>\n      <td>2017</td>\n      <td>11</td>\n      <td>0</td>\n    </tr>\n    <tr>\n      <th>227</th>\n      <td>2017-12-01</td>\n      <td>0.015257</td>\n      <td>80.0</td>\n      <td>87.0</td>\n      <td>64.0</td>\n      <td>82.0</td>\n      <td>149.0</td>\n      <td>2017</td>\n      <td>12</td>\n      <td>0</td>\n    </tr>\n  </tbody>\n</table>\n<p>228 rows × 10 columns</p>\n</div>"
     },
     "metadata": {},
     "execution_count": 13
    }
   ],
   "source": [
    "df_ts = pvt.merge(inj_ty, how = 'inner', on = 'date')\\\n",
    "    .merge(df_conf, how = 'inner', on = 'date')\\\n",
    "        .merge(df_sel.drop('class', axis =1).drop_duplicates(), how = 'inner', on = 'date')\n",
    "        \n",
    "df_ts.rename(columns={'class':'fatality_rate'}, inplace=True)\n",
    "df_ts"
   ]
  },
  {
   "cell_type": "code",
   "execution_count": 14,
   "metadata": {},
   "outputs": [],
   "source": [
    "# save data\n",
    "df_ts.to_csv('../data/collision_ts_month.csv', index = False)"
   ]
  },
  {
   "cell_type": "code",
   "execution_count": null,
   "metadata": {},
   "outputs": [],
   "source": []
  }
 ],
 "metadata": {
  "kernelspec": {
   "name": "python394jvsc74a57bd0aee8b7b246df8f9039afb4144a1f6fd8d2ca17a180786b69acc140d282b71a49",
   "display_name": "Python 3.9.4 64-bit"
  },
  "language_info": {
   "codemirror_mode": {
    "name": "ipython",
    "version": 3
   },
   "file_extension": ".py",
   "mimetype": "text/x-python",
   "name": "python",
   "nbconvert_exporter": "python",
   "pygments_lexer": "ipython3",
   "version": "3.9.4"
  },
  "metadata": {
   "interpreter": {
    "hash": "aee8b7b246df8f9039afb4144a1f6fd8d2ca17a180786b69acc140d282b71a49"
   }
  }
 },
 "nbformat": 4,
 "nbformat_minor": 2
}