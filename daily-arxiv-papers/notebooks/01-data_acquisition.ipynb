{
 "cells": [
  {
   "cell_type": "markdown",
   "metadata": {},
   "source": [
    "# Data acquisition"
   ]
  },
  {
   "cell_type": "code",
   "execution_count": 1,
   "metadata": {},
   "outputs": [],
   "source": [
    "%matplotlib inline\n",
    "\n",
    "# filter warnings\n",
    "import warnings\n",
    "warnings.filterwarnings(\"ignore\")\n",
    "\n",
    "# data manipulation\n",
    "import pandas as pd\n",
    "\n",
    "# request modules\n",
    "import time\n",
    "from urllib.request import urlopen\n",
    "from urllib.error import HTTPError\n",
    "from bs4 import BeautifulSoup\n",
    "\n",
    "# data visualization\n",
    "import matplotlib.pyplot as plt\n",
    "import seaborn as sns\n",
    "\n",
    "# set font scale and style\n",
    "plt.rcParams.update({'font.size': 15})"
   ]
  },
  {
   "cell_type": "code",
   "execution_count": 2,
   "metadata": {},
   "outputs": [],
   "source": [
    "# import custom class\n",
    "%run -i '../src/helper/scraper.py'"
   ]
  },
  {
   "cell_type": "code",
   "execution_count": 3,
   "metadata": {},
   "outputs": [],
   "source": [
    "# instantiate the class\n",
    "scraper = Scraper()"
   ]
  },
  {
   "cell_type": "code",
   "execution_count": 4,
   "metadata": {},
   "outputs": [
    {
     "name": "stdout",
     "output_type": "stream",
     "text": [
      "fetching http://export.arxiv.org/oai2?verb=ListRecords&from=2010-01-01&until=2014-12-31&metadataPrefix=arXiv&set=physics:cond-mat\n",
      "fetching http://export.arxiv.org/oai2?verb=ListRecords&resumptionToken=5977288|1001\n",
      "fetching http://export.arxiv.org/oai2?verb=ListRecords&resumptionToken=5977288|2001\n",
      "fetching http://export.arxiv.org/oai2?verb=ListRecords&resumptionToken=5977288|3001\n",
      "fetching http://export.arxiv.org/oai2?verb=ListRecords&resumptionToken=5977288|4001\n",
      "fetching http://export.arxiv.org/oai2?verb=ListRecords&resumptionToken=5977288|5001\n",
      "fetching http://export.arxiv.org/oai2?verb=ListRecords&resumptionToken=5977288|6001\n",
      "fetching http://export.arxiv.org/oai2?verb=ListRecords&resumptionToken=5977288|7001\n",
      "fetching http://export.arxiv.org/oai2?verb=ListRecords&resumptionToken=5977288|8001\n",
      "fetching http://export.arxiv.org/oai2?verb=ListRecords&resumptionToken=5977288|9001\n",
      "fetching http://export.arxiv.org/oai2?verb=ListRecords&resumptionToken=5977288|10001\n",
      "fetching http://export.arxiv.org/oai2?verb=ListRecords&resumptionToken=5977288|11001\n",
      "fetching http://export.arxiv.org/oai2?verb=ListRecords&resumptionToken=5977288|12001\n",
      "fetching http://export.arxiv.org/oai2?verb=ListRecords&resumptionToken=5977288|13001\n",
      "fetching http://export.arxiv.org/oai2?verb=ListRecords&resumptionToken=5977288|14001\n",
      "fetching http://export.arxiv.org/oai2?verb=ListRecords&resumptionToken=5977288|15001\n",
      "fetching http://export.arxiv.org/oai2?verb=ListRecords&resumptionToken=5977288|16001\n",
      "fetching http://export.arxiv.org/oai2?verb=ListRecords&resumptionToken=5977288|17001\n",
      "fetching http://export.arxiv.org/oai2?verb=ListRecords&resumptionToken=5977288|18001\n",
      "fetching http://export.arxiv.org/oai2?verb=ListRecords&resumptionToken=5977288|19001\n",
      "fetching http://export.arxiv.org/oai2?verb=ListRecords&resumptionToken=5977288|20001\n",
      "fetching http://export.arxiv.org/oai2?verb=ListRecords&resumptionToken=5977288|21001\n",
      "fetching http://export.arxiv.org/oai2?verb=ListRecords&resumptionToken=5977288|22001\n",
      "fetching http://export.arxiv.org/oai2?verb=ListRecords&resumptionToken=5977288|23001\n",
      "fetching http://export.arxiv.org/oai2?verb=ListRecords&resumptionToken=5977288|24001\n",
      "fetching http://export.arxiv.org/oai2?verb=ListRecords&resumptionToken=5977288|25001\n",
      "fetching http://export.arxiv.org/oai2?verb=ListRecords&resumptionToken=5977288|26001\n",
      "fetching http://export.arxiv.org/oai2?verb=ListRecords&resumptionToken=5977288|27001\n",
      "fetching http://export.arxiv.org/oai2?verb=ListRecords&resumptionToken=5977288|28001\n",
      "fetching http://export.arxiv.org/oai2?verb=ListRecords&resumptionToken=5977288|29001\n",
      "fetching http://export.arxiv.org/oai2?verb=ListRecords&resumptionToken=5977288|30001\n",
      "fetching http://export.arxiv.org/oai2?verb=ListRecords&resumptionToken=5977288|31001\n",
      "fetching http://export.arxiv.org/oai2?verb=ListRecords&resumptionToken=5977288|32001\n",
      "fetching http://export.arxiv.org/oai2?verb=ListRecords&resumptionToken=5977288|33001\n",
      "fetching http://export.arxiv.org/oai2?verb=ListRecords&resumptionToken=5977288|34001\n",
      "fetching http://export.arxiv.org/oai2?verb=ListRecords&resumptionToken=5977288|35001\n",
      "fetching http://export.arxiv.org/oai2?verb=ListRecords&resumptionToken=5977288|36001\n",
      "fetching http://export.arxiv.org/oai2?verb=ListRecords&resumptionToken=5977288|37001\n",
      "fetching http://export.arxiv.org/oai2?verb=ListRecords&resumptionToken=5977288|38001\n",
      "fetching http://export.arxiv.org/oai2?verb=ListRecords&resumptionToken=5977288|39001\n",
      "fetching http://export.arxiv.org/oai2?verb=ListRecords&resumptionToken=5977288|40001\n",
      "fetching http://export.arxiv.org/oai2?verb=ListRecords&resumptionToken=5977288|41001\n",
      "fetching http://export.arxiv.org/oai2?verb=ListRecords&resumptionToken=5977288|42001\n",
      "fetching http://export.arxiv.org/oai2?verb=ListRecords&resumptionToken=5977288|43001\n",
      "fetching http://export.arxiv.org/oai2?verb=ListRecords&resumptionToken=5977288|44001\n",
      "fetching http://export.arxiv.org/oai2?verb=ListRecords&resumptionToken=5977288|45001\n",
      "fetching http://export.arxiv.org/oai2?verb=ListRecords&resumptionToken=5977288|46001\n",
      "fetching http://export.arxiv.org/oai2?verb=ListRecords&resumptionToken=5977288|47001\n",
      "fetching http://export.arxiv.org/oai2?verb=ListRecords&resumptionToken=5977288|48001\n",
      "fetching http://export.arxiv.org/oai2?verb=ListRecords&resumptionToken=5977288|49001\n",
      "fetching http://export.arxiv.org/oai2?verb=ListRecords&resumptionToken=5977288|50001\n",
      "fetching http://export.arxiv.org/oai2?verb=ListRecords&resumptionToken=5977288|51001\n",
      "fetching http://export.arxiv.org/oai2?verb=ListRecords&resumptionToken=5977288|52001\n",
      "fetching http://export.arxiv.org/oai2?verb=ListRecords&resumptionToken=5977288|53001\n",
      "fetching http://export.arxiv.org/oai2?verb=ListRecords&resumptionToken=5977288|54001\n",
      "fetching http://export.arxiv.org/oai2?verb=ListRecords&resumptionToken=\n",
      "Got 503. Retrying after 5 seconds.\n",
      "fetching http://export.arxiv.org/oai2?verb=ListRecords&resumptionToken=\n"
     ]
    }
   ],
   "source": [
    "df_condmat = scraper.get_data(arxiv='physics:cond-mat')"
   ]
  },
  {
   "cell_type": "code",
   "execution_count": 5,
   "metadata": {},
   "outputs": [
    {
     "name": "stdout",
     "output_type": "stream",
     "text": [
      "fetching http://export.arxiv.org/oai2?verb=ListRecords&from=2010-01-01&until=2014-12-31&metadataPrefix=arXiv&set=physics:astro-ph\n",
      "Got 503. Retrying after 5 seconds.\n",
      "fetching http://export.arxiv.org/oai2?verb=ListRecords&from=2010-01-01&until=2014-12-31&metadataPrefix=arXiv&set=physics:astro-ph\n",
      "fetching http://export.arxiv.org/oai2?verb=ListRecords&resumptionToken=5977353|1001\n",
      "fetching http://export.arxiv.org/oai2?verb=ListRecords&resumptionToken=5977353|2001\n",
      "fetching http://export.arxiv.org/oai2?verb=ListRecords&resumptionToken=5977353|3001\n",
      "fetching http://export.arxiv.org/oai2?verb=ListRecords&resumptionToken=5977353|4001\n",
      "fetching http://export.arxiv.org/oai2?verb=ListRecords&resumptionToken=5977353|5001\n",
      "fetching http://export.arxiv.org/oai2?verb=ListRecords&resumptionToken=5977353|6001\n",
      "fetching http://export.arxiv.org/oai2?verb=ListRecords&resumptionToken=5977353|7001\n",
      "fetching http://export.arxiv.org/oai2?verb=ListRecords&resumptionToken=5977353|8001\n",
      "fetching http://export.arxiv.org/oai2?verb=ListRecords&resumptionToken=5977353|9001\n",
      "fetching http://export.arxiv.org/oai2?verb=ListRecords&resumptionToken=5977353|10001\n",
      "fetching http://export.arxiv.org/oai2?verb=ListRecords&resumptionToken=5977353|11001\n",
      "fetching http://export.arxiv.org/oai2?verb=ListRecords&resumptionToken=5977353|12001\n",
      "fetching http://export.arxiv.org/oai2?verb=ListRecords&resumptionToken=5977353|13001\n",
      "fetching http://export.arxiv.org/oai2?verb=ListRecords&resumptionToken=5977353|14001\n",
      "fetching http://export.arxiv.org/oai2?verb=ListRecords&resumptionToken=5977353|15001\n",
      "fetching http://export.arxiv.org/oai2?verb=ListRecords&resumptionToken=5977353|16001\n",
      "fetching http://export.arxiv.org/oai2?verb=ListRecords&resumptionToken=5977353|17001\n",
      "fetching http://export.arxiv.org/oai2?verb=ListRecords&resumptionToken=5977353|18001\n",
      "fetching http://export.arxiv.org/oai2?verb=ListRecords&resumptionToken=5977353|19001\n",
      "fetching http://export.arxiv.org/oai2?verb=ListRecords&resumptionToken=5977353|20001\n",
      "fetching http://export.arxiv.org/oai2?verb=ListRecords&resumptionToken=5977353|21001\n",
      "fetching http://export.arxiv.org/oai2?verb=ListRecords&resumptionToken=5977353|22001\n",
      "fetching http://export.arxiv.org/oai2?verb=ListRecords&resumptionToken=5977353|23001\n",
      "fetching http://export.arxiv.org/oai2?verb=ListRecords&resumptionToken=5977353|24001\n",
      "fetching http://export.arxiv.org/oai2?verb=ListRecords&resumptionToken=5977353|25001\n",
      "fetching http://export.arxiv.org/oai2?verb=ListRecords&resumptionToken=5977353|26001\n",
      "fetching http://export.arxiv.org/oai2?verb=ListRecords&resumptionToken=5977353|27001\n",
      "fetching http://export.arxiv.org/oai2?verb=ListRecords&resumptionToken=5977353|28001\n",
      "fetching http://export.arxiv.org/oai2?verb=ListRecords&resumptionToken=5977353|29001\n",
      "fetching http://export.arxiv.org/oai2?verb=ListRecords&resumptionToken=5977353|30001\n",
      "fetching http://export.arxiv.org/oai2?verb=ListRecords&resumptionToken=5977353|31001\n",
      "fetching http://export.arxiv.org/oai2?verb=ListRecords&resumptionToken=5977353|32001\n",
      "fetching http://export.arxiv.org/oai2?verb=ListRecords&resumptionToken=5977353|33001\n",
      "fetching http://export.arxiv.org/oai2?verb=ListRecords&resumptionToken=5977353|34001\n",
      "fetching http://export.arxiv.org/oai2?verb=ListRecords&resumptionToken=5977353|35001\n",
      "fetching http://export.arxiv.org/oai2?verb=ListRecords&resumptionToken=5977353|36001\n",
      "fetching http://export.arxiv.org/oai2?verb=ListRecords&resumptionToken=5977353|37001\n",
      "fetching http://export.arxiv.org/oai2?verb=ListRecords&resumptionToken=\n"
     ]
    }
   ],
   "source": [
    "df_astro = scraper.get_data(arxiv='physics:astro-ph')"
   ]
  },
  {
   "cell_type": "code",
   "execution_count": 6,
   "metadata": {},
   "outputs": [
    {
     "name": "stdout",
     "output_type": "stream",
     "text": [
      "fetching http://export.arxiv.org/oai2?verb=ListRecords&from=2010-01-01&until=2014-12-31&metadataPrefix=arXiv&set=physics:gr-qc\n",
      "Got 503. Retrying after 5 seconds.\n",
      "fetching http://export.arxiv.org/oai2?verb=ListRecords&from=2010-01-01&until=2014-12-31&metadataPrefix=arXiv&set=physics:gr-qc\n",
      "fetching http://export.arxiv.org/oai2?verb=ListRecords&resumptionToken=5977393|1001\n",
      "fetching http://export.arxiv.org/oai2?verb=ListRecords&resumptionToken=5977393|2001\n",
      "fetching http://export.arxiv.org/oai2?verb=ListRecords&resumptionToken=5977393|3001\n",
      "fetching http://export.arxiv.org/oai2?verb=ListRecords&resumptionToken=5977393|4001\n",
      "fetching http://export.arxiv.org/oai2?verb=ListRecords&resumptionToken=5977393|5001\n",
      "fetching http://export.arxiv.org/oai2?verb=ListRecords&resumptionToken=5977393|6001\n",
      "fetching http://export.arxiv.org/oai2?verb=ListRecords&resumptionToken=5977393|7001\n",
      "fetching http://export.arxiv.org/oai2?verb=ListRecords&resumptionToken=5977393|8001\n",
      "fetching http://export.arxiv.org/oai2?verb=ListRecords&resumptionToken=5977393|9001\n",
      "fetching http://export.arxiv.org/oai2?verb=ListRecords&resumptionToken=5977393|10001\n",
      "fetching http://export.arxiv.org/oai2?verb=ListRecords&resumptionToken=5977393|11001\n",
      "fetching http://export.arxiv.org/oai2?verb=ListRecords&resumptionToken=5977393|12001\n",
      "fetching http://export.arxiv.org/oai2?verb=ListRecords&resumptionToken=5977393|13001\n",
      "fetching http://export.arxiv.org/oai2?verb=ListRecords&resumptionToken=5977393|14001\n",
      "fetching http://export.arxiv.org/oai2?verb=ListRecords&resumptionToken=5977393|15001\n",
      "fetching http://export.arxiv.org/oai2?verb=ListRecords&resumptionToken=5977393|16001\n",
      "fetching http://export.arxiv.org/oai2?verb=ListRecords&resumptionToken=5977393|17001\n",
      "fetching http://export.arxiv.org/oai2?verb=ListRecords&resumptionToken=5977393|18001\n",
      "fetching http://export.arxiv.org/oai2?verb=ListRecords&resumptionToken=\n"
     ]
    }
   ],
   "source": [
    "df_gr = scraper.get_data(arxiv='physics:gr-qc')"
   ]
  },
  {
   "cell_type": "code",
   "execution_count": 7,
   "metadata": {},
   "outputs": [
    {
     "name": "stdout",
     "output_type": "stream",
     "text": [
      "fetching http://export.arxiv.org/oai2?verb=ListRecords&from=2010-01-01&until=2014-12-31&metadataPrefix=arXiv&set=physics:hep-th\n",
      "Got 503. Retrying after 5 seconds.\n",
      "fetching http://export.arxiv.org/oai2?verb=ListRecords&from=2010-01-01&until=2014-12-31&metadataPrefix=arXiv&set=physics:hep-th\n",
      "fetching http://export.arxiv.org/oai2?verb=ListRecords&resumptionToken=5977411|1001\n",
      "fetching http://export.arxiv.org/oai2?verb=ListRecords&resumptionToken=5977411|2001\n",
      "fetching http://export.arxiv.org/oai2?verb=ListRecords&resumptionToken=5977411|3001\n",
      "fetching http://export.arxiv.org/oai2?verb=ListRecords&resumptionToken=5977411|4001\n",
      "fetching http://export.arxiv.org/oai2?verb=ListRecords&resumptionToken=5977411|5001\n",
      "fetching http://export.arxiv.org/oai2?verb=ListRecords&resumptionToken=5977411|6001\n",
      "fetching http://export.arxiv.org/oai2?verb=ListRecords&resumptionToken=5977411|7001\n",
      "fetching http://export.arxiv.org/oai2?verb=ListRecords&resumptionToken=5977411|8001\n",
      "fetching http://export.arxiv.org/oai2?verb=ListRecords&resumptionToken=5977411|9001\n",
      "fetching http://export.arxiv.org/oai2?verb=ListRecords&resumptionToken=5977411|10001\n",
      "fetching http://export.arxiv.org/oai2?verb=ListRecords&resumptionToken=5977411|11001\n",
      "fetching http://export.arxiv.org/oai2?verb=ListRecords&resumptionToken=5977411|12001\n",
      "fetching http://export.arxiv.org/oai2?verb=ListRecords&resumptionToken=5977411|13001\n",
      "fetching http://export.arxiv.org/oai2?verb=ListRecords&resumptionToken=5977411|14001\n",
      "fetching http://export.arxiv.org/oai2?verb=ListRecords&resumptionToken=5977411|15001\n",
      "fetching http://export.arxiv.org/oai2?verb=ListRecords&resumptionToken=5977411|16001\n",
      "fetching http://export.arxiv.org/oai2?verb=ListRecords&resumptionToken=5977411|17001\n",
      "fetching http://export.arxiv.org/oai2?verb=ListRecords&resumptionToken=5977411|18001\n",
      "fetching http://export.arxiv.org/oai2?verb=ListRecords&resumptionToken=5977411|19001\n",
      "fetching http://export.arxiv.org/oai2?verb=ListRecords&resumptionToken=5977411|20001\n",
      "fetching http://export.arxiv.org/oai2?verb=ListRecords&resumptionToken=5977411|21001\n",
      "fetching http://export.arxiv.org/oai2?verb=ListRecords&resumptionToken=5977411|22001\n",
      "fetching http://export.arxiv.org/oai2?verb=ListRecords&resumptionToken=5977411|23001\n",
      "fetching http://export.arxiv.org/oai2?verb=ListRecords&resumptionToken=5977411|24001\n",
      "fetching http://export.arxiv.org/oai2?verb=ListRecords&resumptionToken=5977411|25001\n",
      "fetching http://export.arxiv.org/oai2?verb=ListRecords&resumptionToken=5977411|26001\n",
      "fetching http://export.arxiv.org/oai2?verb=ListRecords&resumptionToken=5977411|27001\n",
      "fetching http://export.arxiv.org/oai2?verb=ListRecords&resumptionToken=5977411|28001\n",
      "fetching http://export.arxiv.org/oai2?verb=ListRecords&resumptionToken=5977411|29001\n",
      "fetching http://export.arxiv.org/oai2?verb=ListRecords&resumptionToken=\n",
      "Got 503. Retrying after 5 seconds.\n",
      "fetching http://export.arxiv.org/oai2?verb=ListRecords&resumptionToken=\n"
     ]
    }
   ],
   "source": [
    "df_hepth = scraper.get_data(arxiv='physics:hep-th')"
   ]
  },
  {
   "cell_type": "code",
   "execution_count": 10,
   "metadata": {},
   "outputs": [],
   "source": [
    "df_condmat['categories'] = 'cond-mat'\n",
    "df_astro['categories'] = 'astro-ph'\n",
    "df_gr['categories'] = 'gr-qc'\n",
    "df_hepth['categories'] = 'hep-th'\n",
    "df = pd.concat([df_condmat, df_astro, df_gr, df_hepth], sort = False) "
   ]
  },
  {
   "cell_type": "code",
   "execution_count": 11,
   "metadata": {},
   "outputs": [],
   "source": [
    "df.to_csv('../data/raw_data.csv', sep = '\\t', index=False)"
   ]
  },
  {
   "cell_type": "code",
   "execution_count": 14,
   "metadata": {},
   "outputs": [
    {
     "data": {
      "text/plain": [
       "(29122, 8)"
      ]
     },
     "execution_count": 14,
     "metadata": {},
     "output_type": "execute_result"
    }
   ],
   "source": [
    "df_hepth.shape"
   ]
  },
  {
   "cell_type": "code",
   "execution_count": null,
   "metadata": {},
   "outputs": [],
   "source": []
  }
 ],
 "metadata": {
  "kernelspec": {
   "display_name": "Python 3",
   "language": "python",
   "name": "python3"
  },
  "language_info": {
   "codemirror_mode": {
    "name": "ipython",
    "version": 3
   },
   "file_extension": ".py",
   "mimetype": "text/x-python",
   "name": "python",
   "nbconvert_exporter": "python",
   "pygments_lexer": "ipython3",
   "version": "3.9.4"
  },
  "metadata": {
   "interpreter": {
    "hash": "aee8b7b246df8f9039afb4144a1f6fd8d2ca17a180786b69acc140d282b71a49"
   }
  }
 },
 "nbformat": 4,
 "nbformat_minor": 4
}
